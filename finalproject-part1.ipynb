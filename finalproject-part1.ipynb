{
 "cells": [
  {
   "cell_type": "markdown",
   "metadata": {},
   "source": [
    "# Capstone project: Find the most suitable location for japanese restaurant in Paris\n"
   ]
  },
  {
   "cell_type": "markdown",
   "metadata": {},
   "source": [
    "## Definition of the problem\n",
    "\n",
    "I have been employed by a japanese chef that would like to open a new restaurant in Paris.\n",
    "I must find out where it would be the most suitable.\n",
    "After thinking about what makes a good location for a japanese restaurant I got those different ideas:\n",
    "- As people in Paris mostly use public transportation I guess the restaurant should be not too far from a metro station. I decided then to only investigate the center of Paris (zone 1).\n",
    "- Retrieve the current japanese places around the different metro station. \n",
    "- For those japanese restaurants we could get the most common venues(other kind of restaurants, hotels, park,...) around and trying to cluster it in order to find a pattern for a japanese restaurant to success.\n",
    "- Get the average salary for each district of paris.\n",
    "- Get the population for each district.\n",
    "\n",
    "## Data that I will use to solve this problem\n",
    "My approach is the following first trying to get as much data as I can and clean it to be easily usable like:\n",
    "- Get the different metro station of Paris and their geolocalisation. We can use https://en.wikipedia.org/wiki/List_of_Paris_M%C3%A9tro_stations and geopy library.\n",
    "- Get the japanese places already in places around those metro stations. Using foursquare API explore.\n",
    "- Get the most common places around those japanese restaurants also using the foursquare API exlore\n",
    "- Get the population for each district of Paris. We can use: https://en.wikipedia.org/wiki/Demographics_of_Paris\n",
    "- Get the median salary for each district https://www.apur.org/observatoires_apur/familles/obs/3_3revenus/revenus_tab.htm\n",
    "\n",
    "Then after retrieving all the data, we could try to cluster and find for the japanese restaurants around what kind of other venues they usually are.\n",
    "When that will be done we could visualize them using folium map to display the famous japanese restaurants, the common venues that are usually around japanese restaurants and the metro station. Maybe we will find that around some metro station there is a potential for japanese restaurant but currently does not have any.\n",
    "Then we could decide the best choice by looking at the average salary and population for the different metro stations.\n"
   ]
  }
 ],
 "metadata": {
  "kernelspec": {
   "display_name": "Python 3",
   "language": "python",
   "name": "python3"
  },
  "language_info": {
   "codemirror_mode": {
    "name": "ipython",
    "version": 3
   },
   "file_extension": ".py",
   "mimetype": "text/x-python",
   "name": "python",
   "nbconvert_exporter": "python",
   "pygments_lexer": "ipython3",
   "version": "3.7.3"
  }
 },
 "nbformat": 4,
 "nbformat_minor": 2
}
