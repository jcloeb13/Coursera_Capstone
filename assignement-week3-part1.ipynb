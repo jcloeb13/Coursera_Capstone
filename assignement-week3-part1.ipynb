{
 "cells": [
  {
   "cell_type": "markdown",
   "metadata": {},
   "source": [
    "# Segmenting and Clustering Neighborhoods in Toronto"
   ]
  },
  {
   "cell_type": "markdown",
   "metadata": {},
   "source": [
    "## First part: scraping the data from the wikipedia page  https://en.wikipedia.org/wiki/List_of_postal_codes_of_Canada:_M\n"
   ]
  },
  {
   "cell_type": "code",
   "execution_count": 198,
   "metadata": {},
   "outputs": [],
   "source": [
    "import pandas as pd\n",
    "import numpy as np\n",
    "\n",
    "wikiFrame=pd.read_html('https://en.wikipedia.org/wiki/List_of_postal_codes_of_Canada:_M')\n",
    "df=wikiFrame[0]\n",
    "df.rename(columns={'Postcode':'PostalCode'}, inplace=True)\n",
    "\n",
    "#Only process the cells that have an assigned borough.\n",
    "df=df[df['Borough']!='Not assigned']\n",
    "\n",
    "#More than one neighborhood can exist in one postal code area, we group them and separate them by comma. \n",
    "df=df.groupby(['PostalCode','Borough'],as_index=False)['Neighbourhood'].apply(lambda x: ','.join(x))\n",
    "df=df.reset_index().rename(columns={0:'Neighbourhood'})\n",
    "\n",
    "#cell has a borough but a Not assigned neighborhood, then the neighborhood will be the same as the borough.\n",
    "df['Neighbourhood'].replace('Not assigned',df['Borough'],inplace=True)\n",
    "\n",
    "\n"
   ]
  },
  {
   "cell_type": "markdown",
   "metadata": {},
   "source": [
    "Shape of the dataframe for verification\n"
   ]
  },
  {
   "cell_type": "code",
   "execution_count": 201,
   "metadata": {},
   "outputs": [
    {
     "data": {
      "text/plain": [
       "(103, 3)"
      ]
     },
     "execution_count": 201,
     "metadata": {},
     "output_type": "execute_result"
    }
   ],
   "source": [
    "df.shape\n"
   ]
  }
 ],
 "metadata": {
  "kernelspec": {
   "display_name": "Python 3",
   "language": "python",
   "name": "python3"
  },
  "language_info": {
   "codemirror_mode": {
    "name": "ipython",
    "version": 3
   },
   "file_extension": ".py",
   "mimetype": "text/x-python",
   "name": "python",
   "nbconvert_exporter": "python",
   "pygments_lexer": "ipython3",
   "version": "3.7.3"
  }
 },
 "nbformat": 4,
 "nbformat_minor": 2
}
